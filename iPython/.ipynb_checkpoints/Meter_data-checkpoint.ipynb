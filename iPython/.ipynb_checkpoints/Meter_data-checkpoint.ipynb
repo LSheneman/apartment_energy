{
 "cells": [
  {
   "cell_type": "code",
   "execution_count": 1,
   "metadata": {},
   "outputs": [],
   "source": [
    "import pandas as pd\n",
    "from datetime import datetime\n",
    "import glob\n",
    "import seaborn as sns\n",
    "\n",
    "sns.set(style=\"darkgrid\")\n",
    "%matplotlib inline"
   ]
  },
  {
   "cell_type": "code",
   "execution_count": 2,
   "metadata": {},
   "outputs": [],
   "source": [
    "list_15 = glob.glob('../Apartment/2015/*.csv')"
   ]
  },
  {
   "cell_type": "code",
   "execution_count": 12,
   "metadata": {},
   "outputs": [],
   "source": [
    "# apartment = pd.read_csv('../Apartment/2014/Apt1_2014.csv', header=None)\n",
    "\n",
    "\n",
    "all_data_2015 = pd.DataFrame(columns=pd.date_range(start='2015-01-01', end='2015-12-31').date)\n",
    "\n",
    "for apt in range(len(list_15)):\n",
    "    apartment = pd.read_csv(list_15[apt], header=None)\n",
    "\n",
    "    apartment.columns = ['Date', (list_15[apt].split('2015/')[1].split('_2015')[0])]\n",
    "    apartment.Date = pd.to_datetime(apartment.Date).dt.date\n",
    "\n",
    "    daily_sum = apartment.groupby('Date').agg('sum')\n",
    "    daily_sum = daily_sum.transpose()\n",
    "    all_data_2015 = pd.concat([all_data_2015, daily_sum], sort=False)"
   ]
  },
  {
   "cell_type": "markdown",
   "metadata": {},
   "source": [
    "## Find apartments with complete data:"
   ]
  },
  {
   "cell_type": "code",
   "execution_count": 17,
   "metadata": {},
   "outputs": [
    {
     "name": "stdout",
     "output_type": "stream",
     "text": [
      "Number of all apartments: 114\n",
      "Number of apartments with the complete years data: 108\n"
     ]
    }
   ],
   "source": [
    "print('Number of all apartments: ' + str(len(all_data_2015)))\n",
    "\n",
    "print('Number of apartments with the complete years data: ' + str(len(all_data_2015.dropna())))"
   ]
  },
  {
   "cell_type": "markdown",
   "metadata": {},
   "source": [
    "### Enough apartments have a full year of data that the apartments who got smart meters mid year can be dropped."
   ]
  },
  {
   "cell_type": "code",
   "execution_count": 18,
   "metadata": {},
   "outputs": [],
   "source": [
    "all_data_2015.dropna(inplace=True)"
   ]
  },
  {
   "cell_type": "code",
   "execution_count": 32,
   "metadata": {},
   "outputs": [
    {
     "data": {
      "text/plain": [
       "<matplotlib.axes._subplots.AxesSubplot at 0x1a25a0db10>"
      ]
     },
     "execution_count": 32,
     "metadata": {},
     "output_type": "execute_result"
    },
    {
     "data": {
      "image/png": "[encoded data removed]",
      "text/plain": [
       "<Figure size 432x288 with 1 Axes>"
      ]
     },
     "metadata": {},
     "output_type": "display_data"
    }
   ],
   "source": [
    "sns.lineplot(data=all_data_2015.mean())"
   ]
  },
  {
   "cell_type": "markdown",
   "metadata": {},
   "source": [
    "### The usage is fairly consistant until the end of the year. It is worth investigating if the tempature is the cause."
   ]
  },
  {
   "cell_type": "code",
   "execution_count": 71,
   "metadata": {},
   "outputs": [],
   "source": [
    "weather = pd.read_csv('../weather/apartment2015.csv')"
   ]
  },
  {
   "cell_type": "code",
   "execution_count": 72,
   "metadata": {},
   "outputs": [],
   "source": [
    "weather['date'] = pd.to_datetime(weather['time'], unit='s').dt.month\n",
    "weather = weather[['temperature', 'date']]\n",
    "\n",
    "weather_max = weather.groupby('date').agg('max')\n",
    "weather_min = weather.groupby('date').agg('min')\n",
    "weather_mean = weather.groupby('date').agg('mean')"
   ]
  },
  {
   "cell_type": "code",
   "execution_count": 74,
   "metadata": {},
   "outputs": [],
   "source": [
    "temperatures = pd.concat([weather_mean, weather_max, weather_min], axis=1)\n",
    "temperatures.columns = ['avg_temp','max_temp','min_temp']"
   ]
  },
  {
   "cell_type": "code",
   "execution_count": 75,
   "metadata": {},
   "outputs": [
    {
     "data": {
      "text/html": [
       "<div>\n",
       "<style scoped>\n",
       "    .dataframe tbody tr th:only-of-type {\n",
       "        vertical-align: middle;\n",
       "    }\n",
       "\n",
       "    .dataframe tbody tr th {\n",
       "        vertical-align: top;\n",
       "    }\n",
       "\n",
       "    .dataframe thead th {\n",
       "        text-align: right;\n",
       "    }\n",
       "</style>\n",
       "<table border=\"1\" class=\"dataframe\">\n",
       "  <thead>\n",
       "    <tr style=\"text-align: right;\">\n",
       "      <th>Date</th>\n",
       "      <th>2015-01-01</th>\n",
       "      <th>2015-01-02</th>\n",
       "      <th>2015-01-03</th>\n",
       "      <th>2015-01-04</th>\n",
       "      <th>2015-01-05</th>\n",
       "      <th>2015-01-06</th>\n",
       "      <th>2015-01-07</th>\n",
       "      <th>2015-01-08</th>\n",
       "      <th>2015-01-09</th>\n",
       "      <th>2015-01-10</th>\n",
       "      <th>...</th>\n",
       "      <th>2015-12-22</th>\n",
       "      <th>2015-12-23</th>\n",
       "      <th>2015-12-24</th>\n",
       "      <th>2015-12-25</th>\n",
       "      <th>2015-12-26</th>\n",
       "      <th>2015-12-27</th>\n",
       "      <th>2015-12-28</th>\n",
       "      <th>2015-12-29</th>\n",
       "      <th>2015-12-30</th>\n",
       "      <th>2015-12-31</th>\n",
       "    </tr>\n",
       "  </thead>\n",
       "  <tbody>\n",
       "    <tr>\n",
       "      <th>Apt105</th>\n",
       "      <td>210.283181</td>\n",
       "      <td>199.457492</td>\n",
       "      <td>216.030309</td>\n",
       "      <td>202.172793</td>\n",
       "      <td>212.467510</td>\n",
       "      <td>262.116859</td>\n",
       "      <td>266.894324</td>\n",
       "      <td>302.887756</td>\n",
       "      <td>278.489721</td>\n",
       "      <td>277.099306</td>\n",
       "      <td>...</td>\n",
       "      <td>1428.281150</td>\n",
       "      <td>1293.856767</td>\n",
       "      <td>1054.114883</td>\n",
       "      <td>1170.576683</td>\n",
       "      <td>1255.969383</td>\n",
       "      <td>1412.454817</td>\n",
       "      <td>1875.151217</td>\n",
       "      <td>2098.653283</td>\n",
       "      <td>2014.192067</td>\n",
       "      <td>1857.588333</td>\n",
       "    </tr>\n",
       "    <tr>\n",
       "      <th>Apt104</th>\n",
       "      <td>244.036487</td>\n",
       "      <td>229.189951</td>\n",
       "      <td>272.791747</td>\n",
       "      <td>209.802900</td>\n",
       "      <td>253.506627</td>\n",
       "      <td>288.769789</td>\n",
       "      <td>301.243110</td>\n",
       "      <td>294.351598</td>\n",
       "      <td>280.759162</td>\n",
       "      <td>288.277897</td>\n",
       "      <td>...</td>\n",
       "      <td>1777.047050</td>\n",
       "      <td>825.449600</td>\n",
       "      <td>232.706383</td>\n",
       "      <td>237.654483</td>\n",
       "      <td>240.115767</td>\n",
       "      <td>232.095517</td>\n",
       "      <td>228.038167</td>\n",
       "      <td>257.726950</td>\n",
       "      <td>221.899267</td>\n",
       "      <td>268.454300</td>\n",
       "    </tr>\n",
       "    <tr>\n",
       "      <th>Apt40</th>\n",
       "      <td>233.604038</td>\n",
       "      <td>215.686904</td>\n",
       "      <td>265.942267</td>\n",
       "      <td>221.757097</td>\n",
       "      <td>208.243939</td>\n",
       "      <td>277.256736</td>\n",
       "      <td>286.792943</td>\n",
       "      <td>311.915757</td>\n",
       "      <td>261.294346</td>\n",
       "      <td>275.160827</td>\n",
       "      <td>...</td>\n",
       "      <td>2108.186200</td>\n",
       "      <td>1718.958833</td>\n",
       "      <td>1112.357850</td>\n",
       "      <td>1642.009900</td>\n",
       "      <td>1839.129633</td>\n",
       "      <td>2015.979733</td>\n",
       "      <td>2403.103133</td>\n",
       "      <td>3078.145467</td>\n",
       "      <td>2768.612583</td>\n",
       "      <td>2548.415117</td>\n",
       "    </tr>\n",
       "    <tr>\n",
       "      <th>Apt41</th>\n",
       "      <td>238.725416</td>\n",
       "      <td>233.539269</td>\n",
       "      <td>223.929029</td>\n",
       "      <td>183.406961</td>\n",
       "      <td>192.459466</td>\n",
       "      <td>286.300753</td>\n",
       "      <td>308.067907</td>\n",
       "      <td>176.736361</td>\n",
       "      <td>132.961518</td>\n",
       "      <td>146.798350</td>\n",
       "      <td>...</td>\n",
       "      <td>1002.374717</td>\n",
       "      <td>917.799667</td>\n",
       "      <td>754.697733</td>\n",
       "      <td>853.015300</td>\n",
       "      <td>989.278067</td>\n",
       "      <td>1017.848683</td>\n",
       "      <td>1466.755550</td>\n",
       "      <td>1651.042200</td>\n",
       "      <td>1614.213017</td>\n",
       "      <td>1451.752650</td>\n",
       "    </tr>\n",
       "    <tr>\n",
       "      <th>Apt37</th>\n",
       "      <td>246.423002</td>\n",
       "      <td>234.263477</td>\n",
       "      <td>221.705494</td>\n",
       "      <td>211.625727</td>\n",
       "      <td>236.446823</td>\n",
       "      <td>289.193068</td>\n",
       "      <td>284.038901</td>\n",
       "      <td>328.928349</td>\n",
       "      <td>319.584243</td>\n",
       "      <td>267.074773</td>\n",
       "      <td>...</td>\n",
       "      <td>2470.443400</td>\n",
       "      <td>2349.956033</td>\n",
       "      <td>1573.606050</td>\n",
       "      <td>2480.218467</td>\n",
       "      <td>2570.601383</td>\n",
       "      <td>2877.473267</td>\n",
       "      <td>3502.831150</td>\n",
       "      <td>3967.724800</td>\n",
       "      <td>3656.682633</td>\n",
       "      <td>3031.845650</td>\n",
       "    </tr>\n",
       "  </tbody>\n",
       "</table>\n",
       "<p>5 rows × 365 columns</p>\n",
       "</div>"
      ],
      "text/plain": [
       "Date    2015-01-01  2015-01-02  2015-01-03  2015-01-04  2015-01-05  \\\n",
       "Apt105  210.283181  199.457492  216.030309  202.172793  212.467510   \n",
       "Apt104  244.036487  229.189951  272.791747  209.802900  253.506627   \n",
       "Apt40   233.604038  215.686904  265.942267  221.757097  208.243939   \n",
       "Apt41   238.725416  233.539269  223.929029  183.406961  192.459466   \n",
       "Apt37   246.423002  234.263477  221.705494  211.625727  236.446823   \n",
       "\n",
       "Date    2015-01-06  2015-01-07  2015-01-08  2015-01-09  2015-01-10  \\\n",
       "Apt105  262.116859  266.894324  302.887756  278.489721  277.099306   \n",
       "Apt104  288.769789  301.243110  294.351598  280.759162  288.277897   \n",
       "Apt40   277.256736  286.792943  311.915757  261.294346  275.160827   \n",
       "Apt41   286.300753  308.067907  176.736361  132.961518  146.798350   \n",
       "Apt37   289.193068  284.038901  328.928349  319.584243  267.074773   \n",
       "\n",
       "Date       ...        2015-12-22   2015-12-23   2015-12-24   2015-12-25  \\\n",
       "Apt105     ...       1428.281150  1293.856767  1054.114883  1170.576683   \n",
       "Apt104     ...       1777.047050   825.449600   232.706383   237.654483   \n",
       "Apt40      ...       2108.186200  1718.958833  1112.357850  1642.009900   \n",
       "Apt41      ...       1002.374717   917.799667   754.697733   853.015300   \n",
       "Apt37      ...       2470.443400  2349.956033  1573.606050  2480.218467   \n",
       "\n",
       "Date     2015-12-26   2015-12-27   2015-12-28   2015-12-29   2015-12-30  \\\n",
       "Apt105  1255.969383  1412.454817  1875.151217  2098.653283  2014.192067   \n",
       "Apt104   240.115767   232.095517   228.038167   257.726950   221.899267   \n",
       "Apt40   1839.129633  2015.979733  2403.103133  3078.145467  2768.612583   \n",
       "Apt41    989.278067  1017.848683  1466.755550  1651.042200  1614.213017   \n",
       "Apt37   2570.601383  2877.473267  3502.831150  3967.724800  3656.682633   \n",
       "\n",
       "Date     2015-12-31  \n",
       "Apt105  1857.588333  \n",
       "Apt104   268.454300  \n",
       "Apt40   2548.415117  \n",
       "Apt41   1451.752650  \n",
       "Apt37   3031.845650  \n",
       "\n",
       "[5 rows x 365 columns]"
      ]
     },
     "execution_count": 75,
     "metadata": {},
     "output_type": "execute_result"
    }
   ],
   "source": [
    "all_data_2015.head()"
   ]
  },
  {
   "cell_type": "code",
   "execution_count": 76,
   "metadata": {},
   "outputs": [
    {
     "data": {
      "text/html": [
       "<div>\n",
       "<style scoped>\n",
       "    .dataframe tbody tr th:only-of-type {\n",
       "        vertical-align: middle;\n",
       "    }\n",
       "\n",
       "    .dataframe tbody tr th {\n",
       "        vertical-align: top;\n",
       "    }\n",
       "\n",
       "    .dataframe thead th {\n",
       "        text-align: right;\n",
       "    }\n",
       "</style>\n",
       "<table border=\"1\" class=\"dataframe\">\n",
       "  <thead>\n",
       "    <tr style=\"text-align: right;\">\n",
       "      <th></th>\n",
       "      <th>avg_temp</th>\n",
       "      <th>max_temp</th>\n",
       "      <th>min_temp</th>\n",
       "    </tr>\n",
       "    <tr>\n",
       "      <th>date</th>\n",
       "      <th></th>\n",
       "      <th></th>\n",
       "      <th></th>\n",
       "    </tr>\n",
       "  </thead>\n",
       "  <tbody>\n",
       "    <tr>\n",
       "      <th>1</th>\n",
       "      <td>21.469948</td>\n",
       "      <td>41.62</td>\n",
       "      <td>-4.74</td>\n",
       "    </tr>\n",
       "    <tr>\n",
       "      <th>2</th>\n",
       "      <td>14.398214</td>\n",
       "      <td>37.95</td>\n",
       "      <td>-12.37</td>\n",
       "    </tr>\n",
       "    <tr>\n",
       "      <th>3</th>\n",
       "      <td>29.766815</td>\n",
       "      <td>51.89</td>\n",
       "      <td>-0.88</td>\n",
       "    </tr>\n",
       "    <tr>\n",
       "      <th>4</th>\n",
       "      <td>46.402611</td>\n",
       "      <td>71.59</td>\n",
       "      <td>22.33</td>\n",
       "    </tr>\n",
       "    <tr>\n",
       "      <th>5</th>\n",
       "      <td>63.331425</td>\n",
       "      <td>87.34</td>\n",
       "      <td>35.75</td>\n",
       "    </tr>\n",
       "  </tbody>\n",
       "</table>\n",
       "</div>"
      ],
      "text/plain": [
       "       avg_temp  max_temp  min_temp\n",
       "date                               \n",
       "1     21.469948     41.62     -4.74\n",
       "2     14.398214     37.95    -12.37\n",
       "3     29.766815     51.89     -0.88\n",
       "4     46.402611     71.59     22.33\n",
       "5     63.331425     87.34     35.75"
      ]
     },
     "execution_count": 76,
     "metadata": {},
     "output_type": "execute_result"
    }
   ],
   "source": [
    "temperatures.head()"
   ]
  },
  {
   "cell_type": "code",
   "execution_count": 77,
   "metadata": {},
   "outputs": [
    {
     "data": {
      "text/plain": [
       "<matplotlib.axes._subplots.AxesSubplot at 0x1a2680dbd0>"
      ]
     },
     "execution_count": 77,
     "metadata": {},
     "output_type": "execute_result"
    },
    {
     "data": {
      "image/png": "[encoded data removed]",
      "text/plain": [
       "<Figure size 432x288 with 1 Axes>"
      ]
     },
     "metadata": {},
     "output_type": "display_data"
    }
   ],
   "source": [
    "sns.lineplot(data=temperatures)"
   ]
  },
  {
   "cell_type": "markdown",
   "metadata": {},
   "source": [
    "## December uses more energy but the temperature is higher than in January. Are there other explanations?"
   ]
  },
  {
   "cell_type": "code",
   "execution_count": 123,
   "metadata": {},
   "outputs": [],
   "source": [
    "weather = pd.read_csv('../weather/apartment2015.csv')"
   ]
  },
  {
   "cell_type": "code",
   "execution_count": 124,
   "metadata": {},
   "outputs": [],
   "source": [
    "weather['date'] = pd.to_datetime(weather['time'], unit='s').dt.date\n",
    "weather = weather[['temperature', 'date']]"
   ]
  },
  {
   "cell_type": "code",
   "execution_count": 125,
   "metadata": {},
   "outputs": [],
   "source": [
    "weather_max = weather.groupby('date').agg('max')[:-2]\n",
    "weather_min = weather.groupby('date').agg('min')[:-2]\n",
    "weather_mean = weather.groupby('date').agg('mean')[:-2]"
   ]
  },
  {
   "cell_type": "code",
   "execution_count": 128,
   "metadata": {},
   "outputs": [
    {
     "data": {
      "text/html": [
       "<div>\n",
       "<style scoped>\n",
       "    .dataframe tbody tr th:only-of-type {\n",
       "        vertical-align: middle;\n",
       "    }\n",
       "\n",
       "    .dataframe tbody tr th {\n",
       "        vertical-align: top;\n",
       "    }\n",
       "\n",
       "    .dataframe thead th {\n",
       "        text-align: right;\n",
       "    }\n",
       "</style>\n",
       "<table border=\"1\" class=\"dataframe\">\n",
       "  <thead>\n",
       "    <tr style=\"text-align: right;\">\n",
       "      <th></th>\n",
       "      <th>temperature</th>\n",
       "    </tr>\n",
       "    <tr>\n",
       "      <th>date</th>\n",
       "      <th></th>\n",
       "    </tr>\n",
       "  </thead>\n",
       "  <tbody>\n",
       "    <tr>\n",
       "      <th>2015-12-27</th>\n",
       "      <td>45.201250</td>\n",
       "    </tr>\n",
       "    <tr>\n",
       "      <th>2015-12-28</th>\n",
       "      <td>33.730833</td>\n",
       "    </tr>\n",
       "    <tr>\n",
       "      <th>2015-12-29</th>\n",
       "      <td>27.504167</td>\n",
       "    </tr>\n",
       "    <tr>\n",
       "      <th>2015-12-30</th>\n",
       "      <td>29.274167</td>\n",
       "    </tr>\n",
       "    <tr>\n",
       "      <th>2015-12-31</th>\n",
       "      <td>35.366667</td>\n",
       "    </tr>\n",
       "  </tbody>\n",
       "</table>\n",
       "</div>"
      ],
      "text/plain": [
       "            temperature\n",
       "date                   \n",
       "2015-12-27    45.201250\n",
       "2015-12-28    33.730833\n",
       "2015-12-29    27.504167\n",
       "2015-12-30    29.274167\n",
       "2015-12-31    35.366667"
      ]
     },
     "execution_count": 128,
     "metadata": {},
     "output_type": "execute_result"
    }
   ],
   "source": [
    "weather_mean.tail()"
   ]
  },
  {
   "cell_type": "code",
   "execution_count": 133,
   "metadata": {},
   "outputs": [],
   "source": [
    "compare = pd.concat([all_data_2015.mean(), weather_mean], axis =1)"
   ]
  },
  {
   "cell_type": "code",
   "execution_count": 134,
   "metadata": {},
   "outputs": [],
   "source": [
    "compare.columns = ['consumption', 'temperature']"
   ]
  },
  {
   "cell_type": "code",
   "execution_count": 138,
   "metadata": {},
   "outputs": [
    {
     "data": {
      "text/plain": [
       "<matplotlib.axes._subplots.AxesSubplot at 0x1239531d0>"
      ]
     },
     "execution_count": 138,
     "metadata": {},
     "output_type": "execute_result"
    },
    {
     "data": {
      "image/png": "[encoded data removed]",
      "text/plain": [
       "<Figure size 432x288 with 1 Axes>"
      ]
     },
     "metadata": {},
     "output_type": "display_data"
    }
   ],
   "source": [
    "sns.scatterplot(x=\"consumption\", y=\"temperature\", data=compare)"
   ]
  },
  {
   "cell_type": "markdown",
   "metadata": {},
   "source": [
    "###  When comparing the consumption to the temperature some of the points are outliers"
   ]
  },
  {
   "cell_type": "code",
   "execution_count": 139,
   "metadata": {},
   "outputs": [],
   "source": [
    "weather_max = weather.groupby('date').agg('max')[:-33]\n",
    "weather_min = weather.groupby('date').agg('min')[:-33]\n",
    "weather_mean = weather.groupby('date').agg('mean')[:-33]"
   ]
  },
  {
   "cell_type": "code",
   "execution_count": 146,
   "metadata": {},
   "outputs": [],
   "source": [
    "compare_2  = pd.concat([all_data_2015.mean()[:-31], weather_mean], axis =1)\n",
    "compare_2.columns = ['consumption', 'temperature']"
   ]
  },
  {
   "cell_type": "code",
   "execution_count": 147,
   "metadata": {},
   "outputs": [
    {
     "data": {
      "text/plain": [
       "<matplotlib.axes._subplots.AxesSubplot at 0x12396c610>"
      ]
     },
     "execution_count": 147,
     "metadata": {},
     "output_type": "execute_result"
    },
    {
     "data": {
      "image/png": "[encoded data removed]",
      "text/plain": [
       "<Figure size 432x288 with 1 Axes>"
      ]
     },
     "metadata": {},
     "output_type": "display_data"
    }
   ],
   "source": [
    "sns.scatterplot(x=\"consumption\", y=\"temperature\", data=compare_2)"
   ]
  },
  {
   "cell_type": "markdown",
   "metadata": {},
   "source": [
    "### Decemeber contains outliners of energy consumption."
   ]
  },
  {
   "cell_type": "code",
   "execution_count": null,
   "metadata": {},
   "outputs": [],
   "source": []
  }
 ],
 "metadata": {
  "kernelspec": {
   "display_name": "Python [conda env:springboard]",
   "language": "python",
   "name": "conda-env-springboard-py"
  },
  "language_info": {
   "codemirror_mode": {
    "name": "ipython",
    "version": 2
   },
   "file_extension": ".py",
   "mimetype": "text/x-python",
   "name": "python",
   "nbconvert_exporter": "python",
   "pygments_lexer": "ipython2",
   "version": "2.7.15"
  }
 },
 "nbformat": 4,
 "nbformat_minor": 2
}
