{
 "cells": [
  {
   "cell_type": "markdown",
   "metadata": {},
   "source": [
    "### Load libraries to be used"
   ]
  },
  {
   "cell_type": "code",
   "execution_count": 1,
   "metadata": {},
   "outputs": [],
   "source": [
    "import pandas as pd\n",
    "import numpy as np\n",
    "from datetime import datetime\n",
    "import glob\n",
    "import seaborn as sns\n",
    "import matplotlib.pyplot as plt\n",
    "from scipy import stats\n",
    "\n",
    "from sklearn.preprocessing import StandardScaler\n",
    "from sklearn.metrics import silhouette_score\n",
    "from sklearn.metrics import calinski_harabaz_score\n",
    "from sklearn.cluster import SpectralClustering\n",
    "from sklearn.linear_model import LinearRegression\n",
    "\n",
    "\n",
    "\n",
    "pd.options.mode.chained_assignment = None\n",
    "\n",
    "sns.set(style=\"darkgrid\")\n",
    "%matplotlib inline"
   ]
  },
  {
   "cell_type": "markdown",
   "metadata": {},
   "source": [
    "### Load and prepare the data."
   ]
  },
  {
   "cell_type": "code",
   "execution_count": 2,
   "metadata": {},
   "outputs": [],
   "source": [
    "weather = pd.read_csv('../weather/apartment2016.csv')\n",
    "\n",
    "weather['day'] = pd.to_datetime(weather['time'], unit='s').dt.date\n",
    "\n",
    "apparentTemperature_mean = weather[['apparentTemperature', 'day']]\n",
    "apparentTemperature_mean = apparentTemperature_mean.groupby('day').agg('mean')\n",
    "\n",
    "weather_humidity_days = weather[['humidity', 'day']]\n",
    "weather_humidity_days_mean = weather_humidity_days.groupby('day').agg('max')\n",
    "\n",
    "weather_windSpeed_days = weather[['windSpeed', 'day']]\n",
    "weather_windSpeed_days_mean = weather_windSpeed_days.groupby('day').agg('mean')\n",
    "\n",
    "weather = pd.concat([apparentTemperature_mean, weather_humidity_days_mean, weather_windSpeed_days_mean], axis=1)"
   ]
  },
  {
   "cell_type": "code",
   "execution_count": 3,
   "metadata": {},
   "outputs": [],
   "source": [
    "list_16 = glob.glob('../Apartment/2016/*.csv')\n",
    "\n",
    "all_data_2016_by_day = pd.DataFrame()\n",
    "all_data_2016_by_month = pd.DataFrame(columns=range(1,13))\n",
    "\n",
    "for apt in range(len(list_16)):\n",
    "    apartment = pd.read_csv(list_16[apt], header=None)\n",
    "\n",
    "    apartment.columns = ['Date', 'consumption']\n",
    "    apartment.Date = pd.to_datetime(apartment.Date).dt.date\n",
    "\n",
    "    daily_sum = apartment.groupby('Date').agg('sum')\n",
    "    daily_sum = pd.merge(daily_sum, weather, left_index=True, right_index=True , how='outer')\n",
    "    daily_sum['apartment'] = str(list_16[apt].split('Apt')[1].split('_2016')[0])\n",
    "    daily_sum = daily_sum.rename(columns={'Apt' + str(apt) : 'consumption'})\n",
    "    daily_sum.dropna(inplace=True)\n",
    "    \n",
    "    all_data_2016_by_day = pd.concat([all_data_2016_by_day, daily_sum], sort=False)\n",
    "\n",
    "all_data_2016_by_day.reset_index(inplace=True)\n",
    "all_data_2016_by_day.rename(columns={'index' : 'date'}, inplace=True)"
   ]
  },
  {
   "cell_type": "markdown",
   "metadata": {},
   "source": [
    "### Identify and remove the outliers in the training data based on 98% confidence interval."
   ]
  },
  {
   "cell_type": "code",
   "execution_count": 4,
   "metadata": {},
   "outputs": [],
   "source": [
    "z = np.abs(stats.zscore(all_data_2016_by_day.drop(columns=['date', 'apartment'])))\n",
    "\n",
    "model_o = all_data_2016_by_day[(z < 2.33).all(axis=1)]"
   ]
  },
  {
   "cell_type": "markdown",
   "metadata": {},
   "source": [
    "### Identify 20% of data (by days) to be used in testing our final results."
   ]
  },
  {
   "cell_type": "code",
   "execution_count": 5,
   "metadata": {},
   "outputs": [],
   "source": [
    "def random_days(start, end, n):\n",
    "    start_u = start.value//10**9\n",
    "    end_u = end.value//10**9\n",
    "    \n",
    "    return pd.DatetimeIndex((10**9*np.random.randint(start_u, end_u, n)).view('M8[ns]')).round('D').drop_duplicates()\n",
    "\n",
    "start = pd.to_datetime(all_data_2016_by_day.date.min())\n",
    "end = pd.to_datetime(all_data_2016_by_day.date.max())\n",
    "select_size = int(365 * .2)\n",
    "\n",
    "hold_out_days = random_days(start, end, select_size)"
   ]
  },
  {
   "cell_type": "code",
   "execution_count": 6,
   "metadata": {},
   "outputs": [
    {
     "name": "stdout",
     "output_type": "stream",
     "text": [
      "71\n"
     ]
    }
   ],
   "source": [
    "hold_out_days = hold_out_days.append(random_days(start, end, select_size - len(hold_out_days))).drop_duplicates()\n",
    "print(len(hold_out_days))"
   ]
  },
  {
   "cell_type": "code",
   "execution_count": 7,
   "metadata": {},
   "outputs": [],
   "source": [
    "rows_hold_out = model_o[model_o.date.isin(hold_out_days.date)].index"
   ]
  },
  {
   "cell_type": "markdown",
   "metadata": {},
   "source": [
    "### Scale the data by unit variance for use in the first part of the model."
   ]
  },
  {
   "cell_type": "code",
   "execution_count": 8,
   "metadata": {
    "collapsed": true
   },
   "outputs": [
    {
     "name": "stderr",
     "output_type": "stream",
     "text": [
      "/anaconda3/envs/py36/lib/python3.6/site-packages/sklearn/preprocessing/data.py:645: DataConversionWarning: Data with input dtype float64, object were all converted to float64 by StandardScaler.\n",
      "  return self.partial_fit(X, y)\n",
      "/anaconda3/envs/py36/lib/python3.6/site-packages/sklearn/base.py:464: DataConversionWarning: Data with input dtype float64, object were all converted to float64 by StandardScaler.\n",
      "  return self.fit(X, **fit_params).transform(X)\n"
     ]
    }
   ],
   "source": [
    "scaler = StandardScaler()\n",
    "model_o.drop(columns=['date'], inplace=True)\n",
    "scaled_model_o = pd.DataFrame(scaler.fit_transform(model_o), columns=model_o.columns)"
   ]
  },
  {
   "cell_type": "code",
   "execution_count": 9,
   "metadata": {},
   "outputs": [
    {
     "data": {
      "text/html": [
       "<div>\n",
       "<style scoped>\n",
       "    .dataframe tbody tr th:only-of-type {\n",
       "        vertical-align: middle;\n",
       "    }\n",
       "\n",
       "    .dataframe tbody tr th {\n",
       "        vertical-align: top;\n",
       "    }\n",
       "\n",
       "    .dataframe thead th {\n",
       "        text-align: right;\n",
       "    }\n",
       "</style>\n",
       "<table border=\"1\" class=\"dataframe\">\n",
       "  <thead>\n",
       "    <tr style=\"text-align: right;\">\n",
       "      <th></th>\n",
       "      <th>consumption</th>\n",
       "      <th>apparentTemperature</th>\n",
       "      <th>humidity</th>\n",
       "      <th>windSpeed</th>\n",
       "      <th>apartment</th>\n",
       "    </tr>\n",
       "  </thead>\n",
       "  <tbody>\n",
       "    <tr>\n",
       "      <th>count</th>\n",
       "      <td>3.691900e+04</td>\n",
       "      <td>3.691900e+04</td>\n",
       "      <td>3.691900e+04</td>\n",
       "      <td>3.691900e+04</td>\n",
       "      <td>3.691900e+04</td>\n",
       "    </tr>\n",
       "    <tr>\n",
       "      <th>mean</th>\n",
       "      <td>-1.493489e-16</td>\n",
       "      <td>3.903087e-16</td>\n",
       "      <td>1.381477e-15</td>\n",
       "      <td>-1.463658e-16</td>\n",
       "      <td>-4.926974e-17</td>\n",
       "    </tr>\n",
       "    <tr>\n",
       "      <th>std</th>\n",
       "      <td>1.000014e+00</td>\n",
       "      <td>1.000014e+00</td>\n",
       "      <td>1.000014e+00</td>\n",
       "      <td>1.000014e+00</td>\n",
       "      <td>1.000014e+00</td>\n",
       "    </tr>\n",
       "    <tr>\n",
       "      <th>min</th>\n",
       "      <td>-1.369983e+00</td>\n",
       "      <td>-2.355939e+00</td>\n",
       "      <td>-2.859931e+00</td>\n",
       "      <td>-1.713740e+00</td>\n",
       "      <td>-1.717050e+00</td>\n",
       "    </tr>\n",
       "    <tr>\n",
       "      <th>25%</th>\n",
       "      <td>-8.200599e-01</td>\n",
       "      <td>-7.860947e-01</td>\n",
       "      <td>-5.427356e-01</td>\n",
       "      <td>-8.172439e-01</td>\n",
       "      <td>-8.657079e-01</td>\n",
       "    </tr>\n",
       "    <tr>\n",
       "      <th>50%</th>\n",
       "      <td>-2.024759e-01</td>\n",
       "      <td>7.919505e-02</td>\n",
       "      <td>2.682829e-01</td>\n",
       "      <td>-1.636890e-01</td>\n",
       "      <td>-1.436620e-02</td>\n",
       "    </tr>\n",
       "    <tr>\n",
       "      <th>75%</th>\n",
       "      <td>7.347901e-01</td>\n",
       "      <td>9.257096e-01</td>\n",
       "      <td>7.317220e-01</td>\n",
       "      <td>7.699368e-01</td>\n",
       "      <td>8.673805e-01</td>\n",
       "    </tr>\n",
       "    <tr>\n",
       "      <th>max</th>\n",
       "      <td>2.675972e+00</td>\n",
       "      <td>1.704880e+00</td>\n",
       "      <td>1.311021e+00</td>\n",
       "      <td>2.780668e+00</td>\n",
       "      <td>1.718722e+00</td>\n",
       "    </tr>\n",
       "  </tbody>\n",
       "</table>\n",
       "</div>"
      ],
      "text/plain": [
       "        consumption  apparentTemperature      humidity     windSpeed  \\\n",
       "count  3.691900e+04         3.691900e+04  3.691900e+04  3.691900e+04   \n",
       "mean  -1.493489e-16         3.903087e-16  1.381477e-15 -1.463658e-16   \n",
       "std    1.000014e+00         1.000014e+00  1.000014e+00  1.000014e+00   \n",
       "min   -1.369983e+00        -2.355939e+00 -2.859931e+00 -1.713740e+00   \n",
       "25%   -8.200599e-01        -7.860947e-01 -5.427356e-01 -8.172439e-01   \n",
       "50%   -2.024759e-01         7.919505e-02  2.682829e-01 -1.636890e-01   \n",
       "75%    7.347901e-01         9.257096e-01  7.317220e-01  7.699368e-01   \n",
       "max    2.675972e+00         1.704880e+00  1.311021e+00  2.780668e+00   \n",
       "\n",
       "          apartment  \n",
       "count  3.691900e+04  \n",
       "mean  -4.926974e-17  \n",
       "std    1.000014e+00  \n",
       "min   -1.717050e+00  \n",
       "25%   -8.657079e-01  \n",
       "50%   -1.436620e-02  \n",
       "75%    8.673805e-01  \n",
       "max    1.718722e+00  "
      ]
     },
     "execution_count": 9,
     "metadata": {},
     "output_type": "execute_result"
    }
   ],
   "source": [
    "scaled_model_o.describe()"
   ]
  },
  {
   "cell_type": "markdown",
   "metadata": {},
   "source": [
    "### Run Spectral  and K-means clustering using 2 - 5 clusters to determine what model to use."
   ]
  },
  {
   "cell_type": "code",
   "execution_count": 10,
   "metadata": {},
   "outputs": [
    {
     "name": "stdout",
     "output_type": "stream",
     "text": [
      "k = 2\n",
      " avg sihl = 0.3392\n",
      " CHS = 14288.5379\n",
      "k = 3\n",
      " avg sihl = 0.2486\n",
      " CHS = 13901.6994\n",
      "k = 4\n",
      " avg sihl = 0.2375\n",
      " CHS = 12586.013\n"
     ]
    }
   ],
   "source": [
    "# setup a range of possible k values; 2 <= k <= 5\n",
    "k_range = list(range(2, 5))\n",
    "\n",
    "for k in k_range:      \n",
    "    cluster = SpectralClustering( n_clusters = k, random_state = 42 )\n",
    "    cluster_labels = cluster.fit_predict(scaled_model_o.drop(columns=['consumption']))\n",
    "    \n",
    "    print('k = ' + str(k)+ \n",
    "              \"\\n avg sihl = \" + \n",
    "              str(round(silhouette_score(scaled_model_o.drop(columns=['consumption']), cluster_labels),4)) +\n",
    "              \"\\n CHS = \" +\n",
    "              str(round(calinski_harabaz_score(scaled_model_o.drop(columns=['consumption']), cluster_labels),4)))"
   ]
  },
  {
   "cell_type": "code",
   "execution_count": 12,
   "metadata": {},
   "outputs": [
    {
     "name": "stdout",
     "output_type": "stream",
     "text": [
      "k = 2\n",
      " avg sihl = 0.3178\n",
      " CHS = 16561.5244\n",
      "k = 3\n",
      " avg sihl = 0.2538\n",
      " CHS = 14923.958\n",
      "k = 4\n",
      " avg sihl = 0.2462\n",
      " CHS = 13276.7149\n"
     ]
    },
    {
     "data": {
      "text/plain": [
       "<Figure size 1008x720 with 0 Axes>"
      ]
     },
     "metadata": {},
     "output_type": "display_data"
    }
   ],
   "source": [
    "from sklearn.cluster import KMeans\n",
    "\n",
    "\n",
    "#Cycle through the possible number of clusters recording the sum-of-squares for each solution\n",
    "for k in k_range:\n",
    "    km = KMeans(n_clusters=k, random_state=45, init='k-means++')\n",
    "    cluster_labels = km.fit_predict(scaled_model_o.drop(columns=['consumption']))\n",
    "    \n",
    "    print('k = ' + str(k)+\n",
    "              \"\\n avg sihl = \" + \n",
    "              str(round(silhouette_score(scaled_model_o.drop(columns=['consumption']), cluster_labels),4)) +\n",
    "              \"\\n CHS = \" +\n",
    "              str(round(calinski_harabaz_score(scaled_model_o.drop(columns=['consumption']), cluster_labels),4)))"
   ]
  },
  {
   "cell_type": "markdown",
   "metadata": {},
   "source": [
    "### The model with 2 clusters having the highest shilouttee and Calinski Harabaz scores and will be used to split our initial dataset."
   ]
  },
  {
   "cell_type": "code",
   "execution_count": 49,
   "metadata": {},
   "outputs": [],
   "source": [
    "k=2\n",
    "\n",
    "km = KMeans(n_clusters=k, random_state=45, init='k-means++')\n",
    "km.fit(scaled_model_o.drop(columns=['consumption']))\n",
    "model_o['labels'] = km.labels_"
   ]
  },
  {
   "cell_type": "markdown",
   "metadata": {},
   "source": [
    "### Each cluster will then be used to fit a linear regression line.\n",
    "\n",
    "### Withhold the rows previously indentified as testing data and train the reggessors on the remaining data."
   ]
  },
  {
   "cell_type": "code",
   "execution_count": 50,
   "metadata": {},
   "outputs": [],
   "source": [
    "train = model_o[~model_o.index.isin(rows_hold_out)]\n",
    "test = model_o[model_o.index.isin(rows_hold_out)]"
   ]
  },
  {
   "cell_type": "code",
   "execution_count": 51,
   "metadata": {},
   "outputs": [],
   "source": [
    "cluster_0_train = train[train.labels == 0]\n",
    "cluster_1_train = train[train.labels == 1]\n",
    "\n",
    "cluster_0_test  = test[test.labels == 0]\n",
    "cluster_1_test  = test[test.labels == 1]"
   ]
  },
  {
   "cell_type": "code",
   "execution_count": 52,
   "metadata": {},
   "outputs": [],
   "source": [
    "lm = LinearRegression(fit_intercept=False)"
   ]
  },
  {
   "cell_type": "code",
   "execution_count": 53,
   "metadata": {},
   "outputs": [
    {
     "name": "stdout",
     "output_type": "stream",
     "text": [
      "Estimated intercept coefficient: 0.0\n",
      "Number of coefficients: 4\n",
      "              features  estimatedCoefficients\n",
      "0  apparentTemperature             -37.914145\n",
      "1             humidity            3414.094784\n",
      "2            windSpeed              25.620826\n",
      "3            apartment               1.661642\n"
     ]
    },
    {
     "data": {
      "image/png": "[encoded data removed]",
      "text/plain": [
       "<Figure size 432x288 with 1 Axes>"
      ]
     },
     "metadata": {
      "needs_background": "light"
     },
     "output_type": "display_data"
    },
    {
     "name": "stdout",
     "output_type": "stream",
     "text": [
      "Adjusted R-square: 0.3682319098569264\n"
     ]
    }
   ],
   "source": [
    "lm0 = LinearRegression(fit_intercept=False)\n",
    "lm0.fit(cluster_0_train.drop(columns=['labels', 'consumption']), cluster_0_train.consumption)\n",
    "\n",
    "print('Estimated intercept coefficient: {}'.format(lm0.intercept_))\n",
    "\n",
    "\n",
    "print('Number of coefficients: {}'.format(len(lm0.coef_)))\n",
    "\n",
    "\n",
    "# The coefficients\n",
    "print(pd.DataFrame({'features': cluster_0_train.drop(columns=['labels', 'consumption']).columns, \n",
    "              'estimatedCoefficients': lm0.coef_})[['features', 'estimatedCoefficients']])\n",
    "\n",
    "\n",
    "sns.distplot(lm0.predict(cluster_0_train.drop(columns=['labels', 'consumption'])), color=\"skyblue\")\n",
    "plt.ylabel(\"Frequencey\")\n",
    "plt.xlabel('Predicted Consumption')\n",
    "plt.show()\n",
    "\n",
    "print('Adjusted R-square: ' + str(lm0.score(cluster_0_test.drop(columns=['labels', 'consumption']), cluster_0_test.consumption)))"
   ]
  },
  {
   "cell_type": "code",
   "execution_count": 54,
   "metadata": {
    "scrolled": false
   },
   "outputs": [
    {
     "name": "stdout",
     "output_type": "stream",
     "text": [
      "Estimated intercept coefficient: 0.0\n",
      "Number of coefficients: 4\n",
      "              features  estimatedCoefficients\n",
      "0  apparentTemperature             -40.267100\n",
      "1             humidity            4086.442640\n",
      "2            windSpeed              21.581076\n",
      "3            apartment               2.988656\n"
     ]
    },
    {
     "data": {
      "image/png": "[encoded data removed]",
      "text/plain": [
       "<Figure size 432x288 with 1 Axes>"
      ]
     },
     "metadata": {
      "needs_background": "light"
     },
     "output_type": "display_data"
    },
    {
     "name": "stdout",
     "output_type": "stream",
     "text": [
      "Adjusted R-square: 0.3019852728942477\n"
     ]
    }
   ],
   "source": [
    "lm1 = LinearRegression(fit_intercept=False)\n",
    "lm1.fit(cluster_1_train.drop(columns=['labels', 'consumption']), cluster_1_train.consumption)\n",
    "\n",
    "print('Estimated intercept coefficient: {}'.format(lm1.intercept_))\n",
    "\n",
    "\n",
    "print('Number of coefficients: {}'.format(len(lm1.coef_)))\n",
    "\n",
    "\n",
    "# The coefficients\n",
    "print(pd.DataFrame({'features': cluster_1_train.drop(columns=['labels', 'consumption']).columns, \n",
    "              'estimatedCoefficients': lm1.coef_})[['features', 'estimatedCoefficients']])\n",
    "\n",
    "\n",
    "sns.distplot(lm1.predict(cluster_1_train.drop(columns=['labels', 'consumption'])), color=\"skyblue\")\n",
    "plt.ylabel(\"Frequencey\")\n",
    "plt.xlabel('Predicted Consumption')\n",
    "plt.show()\n",
    "\n",
    "print('Adjusted R-square: ' + str(lm1.score(cluster_1_test.drop(columns=['labels', 'consumption']), cluster_1_test.consumption)))"
   ]
  },
  {
   "cell_type": "markdown",
   "metadata": {},
   "source": [
    "### Use the fitted regressors to predict consumption on the test set and compare this to the true consumption."
   ]
  },
  {
   "cell_type": "code",
   "execution_count": 55,
   "metadata": {},
   "outputs": [],
   "source": [
    "predict0 = pd.DataFrame(lm0.predict(cluster_0_test.drop(columns=['labels','consumption'])), columns=['consumption'])\n",
    "predict1 = pd.DataFrame(lm1.predict(cluster_1_test.drop(columns=['labels', 'consumption'])), columns=['consumption'])\n"
   ]
  },
  {
   "cell_type": "code",
   "execution_count": 56,
   "metadata": {},
   "outputs": [
    {
     "name": "stdout",
     "output_type": "stream",
     "text": [
      "Error rate: -0.0381\n"
     ]
    }
   ],
   "source": [
    "total_predict = predict0.consumption.sum() + predict1.consumption.sum()\n",
    "\n",
    "print('Error rate: ' + str(round((total_predict - test.consumption.sum())/total_predict, 4)))"
   ]
  },
  {
   "cell_type": "code",
   "execution_count": null,
   "metadata": {},
   "outputs": [],
   "source": []
  }
 ],
 "metadata": {
  "kernelspec": {
   "display_name": "Python 3",
   "language": "python",
   "name": "python3"
  },
  "language_info": {
   "codemirror_mode": {
    "name": "ipython",
    "version": 3
   },
   "file_extension": ".py",
   "mimetype": "text/x-python",
   "name": "python",
   "nbconvert_exporter": "python",
   "pygments_lexer": "ipython3",
   "version": "3.6.8"
  }
 },
 "nbformat": 4,
 "nbformat_minor": 2
}
